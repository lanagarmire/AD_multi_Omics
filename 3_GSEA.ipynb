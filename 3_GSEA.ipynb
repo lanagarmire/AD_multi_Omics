{
 "cells": [
  {
   "cell_type": "code",
   "execution_count": 1,
   "metadata": {
    "scrolled": true
   },
   "outputs": [
    {
     "ename": "ERROR",
     "evalue": "Error in library(clusterProfiler): there is no package called ‘clusterProfiler’\n",
     "output_type": "error",
     "traceback": [
      "Error in library(clusterProfiler): there is no package called ‘clusterProfiler’\nTraceback:\n",
      "1. library(clusterProfiler)"
     ]
    }
   ],
   "source": [
    "library(clusterProfiler)\n",
    "library(org.Hs.eg.db)\n",
    "library(ggnewscale)\n",
    "library(ggplot2)\n",
    "library(scales)"
   ]
  },
  {
   "cell_type": "code",
   "execution_count": null,
   "metadata": {
    "scrolled": true
   },
   "outputs": [],
   "source": [
    "emci_de <- read.csv(\"extdata/New_adj_limmaDE_EMCI.csv\", header = TRUE, row.names = 1)\n",
    "lmci_de <- read.csv(\"extdata/New_adj_limmaDE_LMCI.csv\", header = TRUE, row.names = 1)\n",
    "head(emci_de)\n",
    "head(lmci_de)\n",
    "dim(emci_de)"
   ]
  },
  {
   "cell_type": "code",
   "execution_count": 11,
   "metadata": {},
   "outputs": [],
   "source": [
    "emci_de <- read.csv(\"extdata/New_adj_DEmetab_EMCI.csv\", header = TRUE, row.names = 1)\n",
    "lmci_de <- read.csv(\"extdata/New_adj_DEmetab_LMCI.csv\", header = TRUE, row.names = 1)"
   ]
  },
  {
   "cell_type": "code",
   "execution_count": null,
   "metadata": {},
   "outputs": [],
   "source": [
    "overlap <- intersect(emci_de$metab_symbol, lmci_de$metab_symbol)\n",
    "length(overlap)"
   ]
  },
  {
   "cell_type": "code",
   "execution_count": 7,
   "metadata": {},
   "outputs": [],
   "source": [
    "emci_og_geneList <- emci_de$logFC\n",
    "\n",
    "names(emci_og_geneList) <- row.names(emci_de)\n",
    "\n",
    "emci_geneList <- sort(emci_og_geneList, decreasing=TRUE)"
   ]
  },
  {
   "cell_type": "code",
   "execution_count": 8,
   "metadata": {},
   "outputs": [],
   "source": [
    "organism <- \"org.Hs.eg.db\""
   ]
  },
  {
   "cell_type": "code",
   "execution_count": 16,
   "metadata": {},
   "outputs": [
    {
     "name": "stderr",
     "output_type": "stream",
     "text": [
      "preparing geneSet collections...\n",
      "\n",
      "GSEA analysis...\n",
      "\n",
      "leading edge analysis...\n",
      "\n",
      "done...\n",
      "\n"
     ]
    },
    {
     "data": {
      "text/html": [
       "<strong>png:</strong> 2"
      ],
      "text/latex": [
       "\\textbf{png:} 2"
      ],
      "text/markdown": [
       "**png:** 2"
      ],
      "text/plain": [
       "png \n",
       "  2 "
      ]
     },
     "metadata": {},
     "output_type": "display_data"
    }
   ],
   "source": [
    "png(\"figs/Figure_3A.png\",width=7500,height=4800, res=600)\n",
    "set.seed(234)\n",
    "\n",
    "emci_gse <- gseGO(geneList = emci_geneList,\n",
    "             ont = \"ALL\",\n",
    "             keyType = \"SYMBOL\",\n",
    "             minGSSize = 5, \n",
    "             maxGSSize = 500,\n",
    "             pvalueCutoff = 0.05, \n",
    "             verbose = TRUE,\n",
    "             OrgDb = organism,\n",
    "             pAdjustMethod = \"none\")\n",
    "\n",
    "require(DOSE)\n",
    "\n",
    "dotplot(emci_gse, showCategory=5, split=\".sign\", orderBy = \"x\", title = \"GSEA GO: EMCI subtypes\", font.size = 15) + facet_grid(.~.sign)\n",
    "\n",
    "dev.off()"
   ]
  },
  {
   "cell_type": "code",
   "execution_count": 11,
   "metadata": {},
   "outputs": [],
   "source": [
    "lmci_og_geneList <- lmci_de$logFC\n",
    "\n",
    "names(lmci_og_geneList) <- row.names(lmci_de)\n",
    "\n",
    "lmci_geneList <- sort(lmci_og_geneList, decreasing=TRUE)"
   ]
  },
  {
   "cell_type": "code",
   "execution_count": 20,
   "metadata": {},
   "outputs": [
    {
     "name": "stderr",
     "output_type": "stream",
     "text": [
      "preparing geneSet collections...\n",
      "\n",
      "GSEA analysis...\n",
      "\n",
      "leading edge analysis...\n",
      "\n",
      "done...\n",
      "\n"
     ]
    },
    {
     "data": {
      "text/html": [
       "<strong>png:</strong> 2"
      ],
      "text/latex": [
       "\\textbf{png:} 2"
      ],
      "text/markdown": [
       "**png:** 2"
      ],
      "text/plain": [
       "png \n",
       "  2 "
      ]
     },
     "metadata": {},
     "output_type": "display_data"
    }
   ],
   "source": [
    "png(\"figs/Figure_3D.png\",width=7500,height=4800, res=600)\n",
    "set.seed(234)\n",
    "lmci_gse <- gseGO(geneList = lmci_geneList,\n",
    "             ont = \"ALL\",\n",
    "             keyType = \"SYMBOL\",\n",
    "             minGSSize = 1, \n",
    "             maxGSSize = 500,\n",
    "             pvalueCutoff = 0.05, \n",
    "             verbose = TRUE,\n",
    "             OrgDb = organism,\n",
    "             pAdjustMethod = \"none\")\n",
    "\n",
    "require(DOSE)\n",
    "\n",
    "dotplot(lmci_gse, showCategory=5, split=\".sign\", orderBy = \"x\", title = \"GSEA GO: LMCI subtypes\", font.size = 15) + facet_grid(.~.sign)\n",
    "\n",
    "dev.off()"
   ]
  },
  {
   "cell_type": "code",
   "execution_count": 19,
   "metadata": {},
   "outputs": [
    {
     "data": {
      "text/html": [
       "42"
      ],
      "text/latex": [
       "42"
      ],
      "text/markdown": [
       "42"
      ],
      "text/plain": [
       "[1] 42"
      ]
     },
     "metadata": {},
     "output_type": "display_data"
    }
   ],
   "source": [
    "length(lmci_geneList)"
   ]
  },
  {
   "cell_type": "code",
   "execution_count": 13,
   "metadata": {},
   "outputs": [
    {
     "name": "stderr",
     "output_type": "stream",
     "text": [
      "Warning message in cnetplot.enrichResult(x, ...):\n",
      "“Use 'color.params = list(foldChange = your_value)' instead of 'foldChange'.\n",
      " The foldChange parameter will be removed in the next version.”\n",
      "\u001b[1m\u001b[22mScale for \u001b[32msize\u001b[39m is already present.\n",
      "Adding another scale for \u001b[32msize\u001b[39m, which will replace the existing scale.\n",
      "\u001b[1m\u001b[22mScale for \u001b[32mcolour\u001b[39m is already present.\n",
      "Adding another scale for \u001b[32mcolour\u001b[39m, which will replace the existing scale.\n"
     ]
    },
    {
     "data": {
      "text/html": [
       "<strong>png:</strong> 2"
      ],
      "text/latex": [
       "\\textbf{png:} 2"
      ],
      "text/markdown": [
       "**png:** 2"
      ],
      "text/plain": [
       "png \n",
       "  2 "
      ]
     },
     "metadata": {},
     "output_type": "display_data"
    }
   ],
   "source": [
    "png(\"figs/Figure_3B.png\",width=5600,height=4800, res=600)\n",
    "p1 = cnetplot(emci_gse, categorySize = \"geneNum\", foldChange = emci_geneList, showCategory = 5, layout = \"gem\", node_label=\"all\")\n",
    "\n",
    "min.value <- floor( min(p1$data$color, na.rm = TRUE) )\n",
    "max.value <- ceiling( max(p1$data$color, na.rm = TRUE) )\n",
    "\n",
    "p1 + scale_color_gradientn(name = \"fold change\",\n",
    "        colours = c(\"blue\",\"white\",\"red\"), \n",
    "        values = rescale(c(min.value, 0, max.value)),\n",
    "        limits=c(min.value, max.value),\n",
    "        breaks=c(min.value , 0, max.value) )\n",
    "\n",
    "dev.off()"
   ]
  },
  {
   "cell_type": "code",
   "execution_count": 14,
   "metadata": {},
   "outputs": [
    {
     "name": "stderr",
     "output_type": "stream",
     "text": [
      "Warning message in cnetplot.enrichResult(x, ...):\n",
      "“Use 'color.params = list(foldChange = your_value)' instead of 'foldChange'.\n",
      " The foldChange parameter will be removed in the next version.”\n",
      "\u001b[1m\u001b[22mScale for \u001b[32msize\u001b[39m is already present.\n",
      "Adding another scale for \u001b[32msize\u001b[39m, which will replace the existing scale.\n",
      "\u001b[1m\u001b[22mScale for \u001b[32mcolour\u001b[39m is already present.\n",
      "Adding another scale for \u001b[32mcolour\u001b[39m, which will replace the existing scale.\n",
      "Warning message in regularize.values(x, y, ties, missing(ties), na.rm = na.rm):\n",
      "“collapsing to unique 'x' values”\n",
      "Warning message in regularize.values(x, y, ties, missing(ties), na.rm = na.rm):\n",
      "“collapsing to unique 'x' values”\n",
      "Warning message in regularize.values(x, y, ties, missing(ties), na.rm = na.rm):\n",
      "“collapsing to unique 'x' values”\n"
     ]
    },
    {
     "data": {
      "text/html": [
       "<strong>png:</strong> 2"
      ],
      "text/latex": [
       "\\textbf{png:} 2"
      ],
      "text/markdown": [
       "**png:** 2"
      ],
      "text/plain": [
       "png \n",
       "  2 "
      ]
     },
     "metadata": {},
     "output_type": "display_data"
    }
   ],
   "source": [
    "png(\"figs/Figure_3E.png\",width=5600,height=4800, res=600)\n",
    "p2 = cnetplot(lmci_gse, categorySize = \"geneNum\", foldChange = lmci_geneList, showCategory = 5, layout = \"gem\", node_label=\"all\")\n",
    "\n",
    "min.value <- floor( min(p2$data$color, na.rm = TRUE) )\n",
    "max.value <- ceiling( max(p2$data$color, na.rm = TRUE) )\n",
    "\n",
    "p2 + scale_color_gradientn(name = \"fold change\",\n",
    "        colours = c(\"blue\",\"white\",\"red\"), \n",
    "        values = rescale(c(min.value, 0, max.value)),\n",
    "        limits=c(min.value, max.value),\n",
    "        breaks=c(min.value , 0, max.value) )\n",
    "\n",
    "dev.off()"
   ]
  }
 ],
 "metadata": {
  "kernelspec": {
   "display_name": "R",
   "language": "R",
   "name": "ir"
  },
  "language_info": {
   "codemirror_mode": "r",
   "file_extension": ".r",
   "mimetype": "text/x-r-source",
   "name": "R",
   "pygments_lexer": "r",
   "version": "4.2.0"
  }
 },
 "nbformat": 4,
 "nbformat_minor": 4
}
