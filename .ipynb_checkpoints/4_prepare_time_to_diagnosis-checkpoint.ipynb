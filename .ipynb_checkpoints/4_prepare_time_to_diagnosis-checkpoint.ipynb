{
 "cells": [
  {
   "cell_type": "code",
   "execution_count": 2,
   "metadata": {},
   "outputs": [
    {
     "name": "stderr",
     "output_type": "stream",
     "text": [
      "Loading required package: Hmisc\n",
      "\n",
      "Loading required package: lattice\n",
      "\n",
      "Loading required package: survival\n",
      "\n",
      "Loading required package: Formula\n",
      "\n",
      "Loading required package: ggplot2\n",
      "\n",
      "\n",
      "Attaching package: ‘Hmisc’\n",
      "\n",
      "\n",
      "The following objects are masked from ‘package:base’:\n",
      "\n",
      "    format.pval, units\n",
      "\n",
      "\n"
     ]
    }
   ],
   "source": [
    "library(ADNIMERGE)\n",
    "data(adnimerge)"
   ]
  },
  {
   "cell_type": "code",
   "execution_count": 3,
   "metadata": {},
   "outputs": [
    {
     "name": "stderr",
     "output_type": "stream",
     "text": [
      "── \u001b[1mAttaching packages\u001b[22m ─────────────────────────────────────────────────────────────────────────────────────────────────────── tidyverse 1.3.2 ──\n",
      "\u001b[32m✔\u001b[39m \u001b[34mtibble \u001b[39m 3.2.1      \u001b[32m✔\u001b[39m \u001b[34mdplyr  \u001b[39m 1.0.10\n",
      "\u001b[32m✔\u001b[39m \u001b[34mtidyr  \u001b[39m 1.2.1      \u001b[32m✔\u001b[39m \u001b[34mstringr\u001b[39m 1.4.1 \n",
      "\u001b[32m✔\u001b[39m \u001b[34mreadr  \u001b[39m 2.1.2      \u001b[32m✔\u001b[39m \u001b[34mforcats\u001b[39m 0.5.2 \n",
      "\u001b[32m✔\u001b[39m \u001b[34mpurrr  \u001b[39m 0.3.5      \n",
      "── \u001b[1mConflicts\u001b[22m ────────────────────────────────────────────────────────────────────────────────────────────────────────── tidyverse_conflicts() ──\n",
      "\u001b[31m✖\u001b[39m \u001b[34mdplyr\u001b[39m::\u001b[32mfilter()\u001b[39m    masks \u001b[34mstats\u001b[39m::filter()\n",
      "\u001b[31m✖\u001b[39m \u001b[34mdplyr\u001b[39m::\u001b[32mlag()\u001b[39m       masks \u001b[34mstats\u001b[39m::lag()\n",
      "\u001b[31m✖\u001b[39m \u001b[34mdplyr\u001b[39m::\u001b[32msrc()\u001b[39m       masks \u001b[34mHmisc\u001b[39m::src()\n",
      "\u001b[31m✖\u001b[39m \u001b[34mdplyr\u001b[39m::\u001b[32msummarize()\u001b[39m masks \u001b[34mHmisc\u001b[39m::summarize()\n"
     ]
    }
   ],
   "source": [
    "library(tidyverse)"
   ]
  },
  {
   "cell_type": "code",
   "execution_count": null,
   "metadata": {},
   "outputs": [],
   "source": [
    "adnimerge %>%\n",
    "  group_by(PTID) %>%\n",
    "  filter( n_distinct(DX.bl) > 1 ) "
   ]
  },
  {
   "cell_type": "code",
   "execution_count": 6,
   "metadata": {},
   "outputs": [],
   "source": [
    "EMCI_Dementia = adnimerge %>%\n",
    "  group_by(PTID) %>%\n",
    "  filter(DX.bl == \"EMCI\" & DX == \"Dementia\") "
   ]
  },
  {
   "cell_type": "code",
   "execution_count": 9,
   "metadata": {},
   "outputs": [],
   "source": [
    "LMCI_Dementia = adnimerge %>%\n",
    "  group_by(PTID) %>%\n",
    "  filter(DX.bl == \"LMCI\" & DX == \"Dementia\") "
   ]
  },
  {
   "cell_type": "code",
   "execution_count": 7,
   "metadata": {},
   "outputs": [],
   "source": [
    "EMCI_Dementia_PITD = unique(EMCI_Dementia$PTID)"
   ]
  },
  {
   "cell_type": "code",
   "execution_count": 10,
   "metadata": {},
   "outputs": [],
   "source": [
    "LMCI_Dementia_PITD = unique(LMCI_Dementia$PTID)"
   ]
  },
  {
   "cell_type": "code",
   "execution_count": 38,
   "metadata": {},
   "outputs": [],
   "source": [
    "EMCI_1_PTID = read.csv(\"extdata/EMCI_1_names.csv\")\n",
    "EMCI_2_PTID = read.csv(\"extdata/EMCI_2_names.csv\")\n"
   ]
  },
  {
   "cell_type": "code",
   "execution_count": 39,
   "metadata": {},
   "outputs": [],
   "source": [
    "LMCI_1_PTID = read.csv(\"extdata/LMCI_1_names.csv\")\n",
    "LMCI_2_PTID = read.csv(\"extdata/LMCI_2_names.csv\")\n"
   ]
  },
  {
   "cell_type": "code",
   "execution_count": 37,
   "metadata": {},
   "outputs": [],
   "source": [
    "#EMCI_1_PTID_Dementia = intersect(EMCI_Dementia_PITD, EMCI_1_PTID$x)"
   ]
  },
  {
   "cell_type": "code",
   "execution_count": 16,
   "metadata": {},
   "outputs": [],
   "source": [
    "#EMCI_2_PTID_Dementia = intersect(EMCI_Dementia_PITD, EMCI_2_PTID$x)"
   ]
  },
  {
   "cell_type": "code",
   "execution_count": 23,
   "metadata": {},
   "outputs": [],
   "source": [
    "#LMCI_1_PTID_Dementia = intersect(LMCI_Dementia_PITD, LMCI_1_PTID$x)\n",
    "#LMCI_2_PTID_Dementia = intersect(LMCI_Dementia_PITD, LMCI_2_PTID$x)"
   ]
  },
  {
   "cell_type": "code",
   "execution_count": 18,
   "metadata": {},
   "outputs": [],
   "source": [
    "# get the modified df for the patient\n",
    "get_modified_dementia_df <- function(i, adnimerge, PITD){\n",
    "   adnimerge_MCI_Dementia = adnimerge[adnimerge$PTID == PITD[i], c(\"PTID\",\"EXAMDATE\", \"DX.bl\",\"DX\")]\n",
    "\n",
    "   # Fill the NA value\n",
    "   adnimerge_MCI_Dementia = adnimerge_MCI_Dementia %>% \n",
    "       fill(DX, .direction = \"updown\")\n",
    "   # print(adnimerge_MCI_Dementia)\n",
    "\n",
    "   # Number of half year time intervals\n",
    "   first_time = adnimerge_MCI_Dementia[1,\"EXAMDATE\"]\n",
    "   last_time = adnimerge_MCI_Dementia[ length(row.names(adnimerge_MCI_Dementia)),\"EXAMDATE\"]\n",
    "   diff = last_time - first_time\n",
    "   time_interval  = as.integer(diff/182.5) + 1\n",
    "\n",
    "   # Create modified df (tracking to the closest time before the timestamp)\n",
    "\n",
    "   modified_df <- data.frame(matrix(ncol = 3, nrow = time_interval))\n",
    "   colnames(modified_df) = c(\"PTID\", \"timestamp\", 'DX')\n",
    "\n",
    "   #k: index for adnimerge_MCI_Dementia\n",
    "   k = 1\n",
    "   current_time = adnimerge_MCI_Dementia[1, \"EXAMDATE\"]\n",
    "   for (j in 1: time_interval){\n",
    "    \n",
    "       if(as.numeric(current_time - adnimerge_MCI_Dementia[k, \"EXAMDATE\"]) < 182.5){\n",
    "           current_DX = adnimerge_MCI_Dementia[k, 'DX']\n",
    "       }\n",
    "       else{\n",
    "           k = k + 1\n",
    "           current_DX = adnimerge_MCI_Dementia[k , 'DX']\n",
    "       } \n",
    "       #print(k)\n",
    "       #print(current_DX)\n",
    "       #print(current_time)\n",
    "       modified_df[j, ] = c(adnimerge_MCI_Dementia[k, \"PTID\"], j , as.character(current_DX))\n",
    "       current_time = current_time + 182.5\n",
    "   }\n",
    "   modified_df$timestamp = as.integer(modified_df$timestamp)\n",
    "   return(modified_df)\n",
    "}\n"
   ]
  },
  {
   "cell_type": "code",
   "execution_count": 51,
   "metadata": {},
   "outputs": [],
   "source": [
    "# get the AD prop for a list\n",
    "\n",
    "get_ad_prop <- function(adnimerge, PTID){\n",
    "    merged_df = get_modified_dementia_df(1, adnimerge, PTID)[,c(-1)]\n",
    "\n",
    "    for(i in 2:length(PTID)){\n",
    "        df2 = get_modified_dementia_df(i, adnimerge, PTID)[,c(-1)]\n",
    "        merged_df = merge(merged_df, df2, by = \"timestamp\", all.x = TRUE, all.y = TRUE)\n",
    "    }\n",
    "    rownames(merged_df) = merged_df$timestamp\n",
    "    merged_df = merged_df[,c(-1)]\n",
    "    merged_df[is.na(merged_df)] <- \"No record\"\n",
    "    prop_list= list()\n",
    "    for(i in 1:nrow(merged_df))\n",
    "    {\n",
    "        sum = 0\n",
    "        for(j in 1: ncol(merged_df))\n",
    "        {\n",
    "            \n",
    "            if(merged_df[i , j] == \"MCI\")\n",
    "            {\n",
    "                sum = sum + 1\n",
    "            }\n",
    "        }\n",
    "        sum_dimentia = 0\n",
    "         for(j in 1: ncol(merged_df))\n",
    "        {\n",
    "            \n",
    "            if(merged_df[i , j] == \"Dementia\")\n",
    "            {\n",
    "                sum_dimentia = sum_dimentia + 1\n",
    "            }\n",
    "        }\n",
    "        prop = sum/(sum+ sum_dimentia)\n",
    "        prop_list[i] = 1 - prop\n",
    "    }\n",
    "    return(prop_list)\n",
    "    \n",
    "}"
   ]
  },
  {
   "cell_type": "code",
   "execution_count": 52,
   "metadata": {},
   "outputs": [],
   "source": [
    "prop_EMCI_1 = suppressWarnings(get_ad_prop(adnimerge, EMCI_1_PTID$x))"
   ]
  },
  {
   "cell_type": "code",
   "execution_count": null,
   "metadata": {},
   "outputs": [],
   "source": [
    "prop_EMCI_1"
   ]
  },
  {
   "cell_type": "code",
   "execution_count": 53,
   "metadata": {},
   "outputs": [],
   "source": [
    "prop_EMCI_2 = suppressWarnings(get_ad_prop(adnimerge, EMCI_2_PTID$x))"
   ]
  },
  {
   "cell_type": "code",
   "execution_count": 56,
   "metadata": {},
   "outputs": [],
   "source": [
    "prop_LMCI_1 = suppressWarnings(get_ad_prop(adnimerge, LMCI_1_PTID$x))"
   ]
  },
  {
   "cell_type": "code",
   "execution_count": 57,
   "metadata": {},
   "outputs": [],
   "source": [
    "prop_LMCI_2 = suppressWarnings(get_ad_prop(adnimerge, LMCI_2_PTID$x))"
   ]
  },
  {
   "cell_type": "code",
   "execution_count": 60,
   "metadata": {},
   "outputs": [],
   "source": [
    "write.csv(prop_EMCI_1, \"extdata/prop_EMCI_1_all.csv\")"
   ]
  },
  {
   "cell_type": "code",
   "execution_count": 61,
   "metadata": {},
   "outputs": [],
   "source": [
    "write.csv(prop_EMCI_2, \"extdata/prop_EMCI_2_all.csv\")"
   ]
  },
  {
   "cell_type": "code",
   "execution_count": 62,
   "metadata": {},
   "outputs": [],
   "source": [
    "write.csv(prop_LMCI_1, \"extdata/prop_LMCI_1_all.csv\")"
   ]
  },
  {
   "cell_type": "code",
   "execution_count": 63,
   "metadata": {},
   "outputs": [],
   "source": [
    "write.csv(prop_LMCI_2, \"extdata/prop_LMCI_2_all.csv\")"
   ]
  }
 ],
 "metadata": {
  "kernelspec": {
   "display_name": "R",
   "language": "R",
   "name": "ir"
  },
  "language_info": {
   "codemirror_mode": "r",
   "file_extension": ".r",
   "mimetype": "text/x-r-source",
   "name": "R",
   "pygments_lexer": "r",
   "version": "4.2.0"
  }
 },
 "nbformat": 4,
 "nbformat_minor": 4
}
